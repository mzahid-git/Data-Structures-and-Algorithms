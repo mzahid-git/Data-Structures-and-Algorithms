{
 "cells": [
  {
   "cell_type": "markdown",
   "metadata": {},
   "source": [
    "Find the missing number"
   ]
  },
  {
   "cell_type": "code",
   "execution_count": 28,
   "metadata": {},
   "outputs": [],
   "source": [
    "def missing_number(arr, n):\n",
    "    list_100 = range(1,n)\n",
    "    missing_num = None\n",
    "    for i in range(len(list_100)):\n",
    "        if  list_100[i] in arr:\n",
    "            pass\n",
    "        else: \n",
    "            missing_num = list_100[i]\n",
    "\n",
    "    return missing_num"
   ]
  },
  {
   "cell_type": "code",
   "execution_count": 30,
   "metadata": {},
   "outputs": [
    {
     "data": {
      "text/plain": [
       "3"
      ]
     },
     "execution_count": 30,
     "metadata": {},
     "output_type": "execute_result"
    }
   ],
   "source": [
    "missing_number([1,2,4,5,6,7,8,9],8)"
   ]
  },
  {
   "cell_type": "code",
   "execution_count": 31,
   "metadata": {},
   "outputs": [],
   "source": [
    "# Solution with Time complexity O(n)\n",
    "\n",
    "def missing_number(arr, n):\n",
    "    # Calculate the sum of first n natural numbers\n",
    "    total = n * (n + 1) // 2\n",
    "    \n",
    "    # Calculate the sum of numbers in the array\n",
    "    sum_arr = sum(arr)\n",
    "    \n",
    "    # Find the missing number by subtracting sum_arr from total\n",
    "    missing = total - sum_arr\n",
    "    \n",
    "    return missing"
   ]
  },
  {
   "cell_type": "markdown",
   "metadata": {},
   "source": [
    "Two sum"
   ]
  },
  {
   "cell_type": "code",
   "execution_count": 43,
   "metadata": {},
   "outputs": [],
   "source": [
    "def pairSum(arr,target):\n",
    "    for i in range(len(arr)):\n",
    "        for j in range(i+1,len(arr)):\n",
    "            if arr[i] == arr[j]:\n",
    "                continue\n",
    "            elif arr[i] + arr[j] == target:\n",
    "                print(i,j)"
   ]
  },
  {
   "cell_type": "code",
   "execution_count": 45,
   "metadata": {},
   "outputs": [
    {
     "name": "stdout",
     "output_type": "stream",
     "text": [
      "0 10\n",
      "1 4\n",
      "2 3\n",
      "2 5\n",
      "2 8\n",
      "3 6\n",
      "4 7\n",
      "4 11\n",
      "4 13\n",
      "5 6\n",
      "6 8\n",
      "10 12\n"
     ]
    }
   ],
   "source": [
    "pairSum([1,2,3,4,5,4,3,2,4,55,6,2,1,2],7)"
   ]
  },
  {
   "cell_type": "markdown",
   "metadata": {},
   "source": [
    "How to check if an array contains a certain value or number?"
   ]
  },
  {
   "cell_type": "code",
   "execution_count": 61,
   "metadata": {},
   "outputs": [],
   "source": [
    "import numpy as np"
   ]
  },
  {
   "cell_type": "code",
   "execution_count": 63,
   "metadata": {},
   "outputs": [],
   "source": [
    "def checkNum(arr,target):\n",
    "    exists = False\n",
    "    for i in range(len(arr)):\n",
    "        if arr[i] == target:\n",
    "            print(f'{target} exists at index {i}')\n",
    "            exists = True\n",
    "            break\n",
    "    if exists == False:\n",
    "        print(f'{target} does not exist')"
   ]
  },
  {
   "cell_type": "code",
   "execution_count": 64,
   "metadata": {},
   "outputs": [
    {
     "name": "stdout",
     "output_type": "stream",
     "text": [
      "3 exists at index 2\n"
     ]
    }
   ],
   "source": [
    "checkNum(np.array([1,2,3,4]),3)"
   ]
  },
  {
   "cell_type": "markdown",
   "metadata": {},
   "source": [
    "Max Product of Two Integers: Find the maximum product of two integers in an array where all elements are positive."
   ]
  },
  {
   "cell_type": "code",
   "execution_count": 87,
   "metadata": {},
   "outputs": [],
   "source": [
    "from array import *\n",
    "def max_product(arr):\n",
    "    products = array('i',[])\n",
    "    for i in range(len(arr)):\n",
    "        for j in range(len(arr)):\n",
    "            if arr[i] == arr[j]:\n",
    "                continue\n",
    "            products.append(arr[i] * arr[j])\n",
    "    \n",
    "    max_prod = 0\n",
    "    for i in range(len(products)):\n",
    "        if max_prod < products[i]:\n",
    "            max_prod = products[i]\n",
    "\n",
    "    return max_prod"
   ]
  },
  {
   "cell_type": "code",
   "execution_count": 88,
   "metadata": {},
   "outputs": [
    {
     "data": {
      "text/plain": [
       "63"
      ]
     },
     "execution_count": 88,
     "metadata": {},
     "output_type": "execute_result"
    }
   ],
   "source": [
    "max_product(np.array([1, 7, 3, 4, 9, 5]))"
   ]
  },
  {
   "cell_type": "markdown",
   "metadata": {},
   "source": [
    "Middle Function\n",
    "Write a function called middle that takes a list and returns a new list that contains all but the first and last elements.\n",
    "\n",
    "myList = [1, 2, 3, 4]\n",
    "\n",
    "middle(myList)  # [2,3]"
   ]
  },
  {
   "cell_type": "code",
   "execution_count": 109,
   "metadata": {},
   "outputs": [],
   "source": [
    "def middle(lst):\n",
    "    new_list = lst\n",
    "    new_list.pop()\n",
    "    del new_list[0]\n",
    "    return new_list"
   ]
  },
  {
   "cell_type": "code",
   "execution_count": 111,
   "metadata": {},
   "outputs": [
    {
     "data": {
      "text/plain": [
       "[2, 3, 4, 5, 2, 3, 4]"
      ]
     },
     "execution_count": 111,
     "metadata": {},
     "output_type": "execute_result"
    }
   ],
   "source": [
    "middle([1,2,3,4,5,2,3,4,7])"
   ]
  },
  {
   "cell_type": "code",
   "execution_count": 112,
   "metadata": {},
   "outputs": [],
   "source": [
    "lst = [1,2,3,4,55,6,7,84,3,2,23,4,5,6,7]"
   ]
  },
  {
   "cell_type": "code",
   "execution_count": null,
   "metadata": {},
   "outputs": [],
   "source": [
    "# simpler method\n",
    "def middle(lst):\n",
    "    return lst[1:-1]"
   ]
  },
  {
   "cell_type": "code",
   "execution_count": 117,
   "metadata": {},
   "outputs": [
    {
     "data": {
      "text/plain": [
       "[2, 3, 4, 5, 2, 3, 4]"
      ]
     },
     "execution_count": 117,
     "metadata": {},
     "output_type": "execute_result"
    }
   ],
   "source": [
    "middle([1,2,3,4,5,2,3,4,7])"
   ]
  },
  {
   "cell_type": "markdown",
   "metadata": {},
   "source": [
    "2D Lists:\n",
    "Given 2D list calculate the sum of diagonal elements.\n",
    "\n",
    "Example\n",
    "\n",
    "myList2D= [[1,2,3],[4,5,6],[7,8,9]] \n",
    " \n",
    "diagonal_sum(myList2D) # 15"
   ]
  },
  {
   "cell_type": "code",
   "execution_count": 118,
   "metadata": {},
   "outputs": [],
   "source": [
    "myList2D= [[1,2,3],[4,5,6],[7,8,9]] "
   ]
  },
  {
   "cell_type": "code",
   "execution_count": 121,
   "metadata": {},
   "outputs": [
    {
     "data": {
      "text/plain": [
       "[[1, 2, 3], [4, 5, 6], [7, 8, 9]]"
      ]
     },
     "execution_count": 121,
     "metadata": {},
     "output_type": "execute_result"
    }
   ],
   "source": [
    "myList2D"
   ]
  },
  {
   "cell_type": "code",
   "execution_count": 131,
   "metadata": {},
   "outputs": [],
   "source": [
    "def diagSum(arr):\n",
    "    diag_elements=[]\n",
    "    for i in range(len(arr)):\n",
    "        for j in range(len(arr[0])):\n",
    "            if i == j:\n",
    "                diag_elements.append(arr[i][j])\n",
    "    return sum(diag_elements)"
   ]
  },
  {
   "cell_type": "code",
   "execution_count": 132,
   "metadata": {},
   "outputs": [
    {
     "data": {
      "text/plain": [
       "15"
      ]
     },
     "execution_count": 132,
     "metadata": {},
     "output_type": "execute_result"
    }
   ],
   "source": [
    "diagSum(myList2D)"
   ]
  },
  {
   "cell_type": "code",
   "execution_count": 133,
   "metadata": {},
   "outputs": [],
   "source": [
    "# Another way with Time Complexity of O(n) instead of O(n*n)\n",
    "\n",
    "def diagonal_sum(matrix):\n",
    "    # Initialize the sum to 0\n",
    "    total = 0\n",
    " \n",
    "    # Iterate through the rows of the matrix\n",
    "    for i in range(len(matrix)):\n",
    "        # Add the diagonal element to the total sum\n",
    "        total += matrix[i][i]\n",
    " \n",
    "    return total"
   ]
  },
  {
   "cell_type": "code",
   "execution_count": 134,
   "metadata": {},
   "outputs": [
    {
     "data": {
      "text/plain": [
       "15"
      ]
     },
     "execution_count": 134,
     "metadata": {},
     "output_type": "execute_result"
    }
   ],
   "source": [
    "diagSum(myList2D)"
   ]
  },
  {
   "cell_type": "markdown",
   "metadata": {},
   "source": [
    "Best Score:\n",
    "\n",
    "Given a list, write a function to get first, second best scores from the list.\n",
    "\n",
    "List may contain duplicates.\n",
    "\n",
    "Example\n",
    "\n",
    "myList = [84,85,86,87,85,90,85,83,23,45,84,1,2,0]\n",
    "first_second(myList) # 90 87"
   ]
  },
  {
   "cell_type": "code",
   "execution_count": 136,
   "metadata": {},
   "outputs": [],
   "source": [
    "myList = [84,85,86,87,85,90,85,83,23,45,84,1,2,0]"
   ]
  },
  {
   "cell_type": "code",
   "execution_count": 139,
   "metadata": {},
   "outputs": [],
   "source": [
    "def first_second(lst):\n",
    "    first = max(lst)\n",
    "    second = 0\n",
    "    lst.remove(first)\n",
    "    for i in range(len(lst)):\n",
    "        if second < lst[i]:\n",
    "            second = lst[i]\n",
    "    return first,second"
   ]
  },
  {
   "cell_type": "code",
   "execution_count": 140,
   "metadata": {},
   "outputs": [
    {
     "data": {
      "text/plain": [
       "(87, 86)"
      ]
     },
     "execution_count": 140,
     "metadata": {},
     "output_type": "execute_result"
    }
   ],
   "source": [
    "first_second(myList)"
   ]
  },
  {
   "cell_type": "code",
   "execution_count": 141,
   "metadata": {},
   "outputs": [
    {
     "data": {
      "text/plain": [
       "(6, 5)"
      ]
     },
     "execution_count": 141,
     "metadata": {},
     "output_type": "execute_result"
    }
   ],
   "source": [
    "first_second([1,2,3,4,5,6])"
   ]
  },
  {
   "cell_type": "code",
   "execution_count": null,
   "metadata": {},
   "outputs": [],
   "source": [
    "# Another way\n",
    "\n",
    "def first_second(my_list):\n",
    "    max1, max2 = float('-inf'), float('-inf')\n",
    " \n",
    "    for num in my_list:\n",
    "        if num > max1:\n",
    "            max2 = max1\n",
    "            max1 = num\n",
    "        elif num > max2 and num != max1:\n",
    "            max2 = num\n",
    " \n",
    "    return max1, max2\n",
    " \n",
    "my_list = [84, 85, 86, 87, 85, 90, 85, 83, 23, 45, 84, 1, 2, 0]\n",
    "print(first_second(my_list))  # Output: (90, 87)"
   ]
  },
  {
   "cell_type": "markdown",
   "metadata": {},
   "source": [
    "Duplicate Number:\n",
    "\n",
    "Write a function to remove the duplicate numbers on given integer array/list.\n",
    "\n",
    "Example\n",
    "\n",
    "remove_duplicates([1, 1, 2, 2, 3, 4, 5])\n",
    "\n",
    "Output : [1, 2, 3, 4, 5]"
   ]
  },
  {
   "cell_type": "code",
   "execution_count": 148,
   "metadata": {},
   "outputs": [],
   "source": [
    "def remove_duplicates(lst):\n",
    "    distinct = set()\n",
    "    # If the list item does not exist in our \n",
    "    for i in lst:\n",
    "        if i not in distinct:\n",
    "            distinct.add(i)\n",
    "    return distinct"
   ]
  },
  {
   "cell_type": "code",
   "execution_count": 151,
   "metadata": {},
   "outputs": [
    {
     "data": {
      "text/plain": [
       "{1, 2}"
      ]
     },
     "execution_count": 151,
     "metadata": {},
     "output_type": "execute_result"
    }
   ],
   "source": [
    "remove_duplicates([1, 1, 1, 1,2])"
   ]
  },
  {
   "cell_type": "markdown",
   "metadata": {},
   "source": [
    "Pairs:\n",
    "\n",
    "Write a function to find all pairs of an integer array whose sum is equal to a given number. Do not consider commutative pairs.\n",
    "\n",
    "Example\n",
    "\n",
    "pair_sum([2, 4, 3, 5, 6, -2, 4, 7, 8, 9],7)\n",
    "\n",
    "Output : ['2+5', '4+3', '3+4', '-2+9']\n",
    "\n",
    "\n",
    "Note:\n",
    "\n",
    "4+3 comes from second and third elements from the main list.\n",
    "\n",
    "3+4 comes from third and seventh elements from the main list."
   ]
  },
  {
   "cell_type": "code",
   "execution_count": 154,
   "metadata": {},
   "outputs": [],
   "source": [
    "def pair_sum(arr,target):\n",
    "    output = []\n",
    "    for i in range(len(arr)):\n",
    "        for j in range(i+1,len(arr)):\n",
    "            if (arr[i] + arr[j]) == target:\n",
    "                output.append(str(f'{arr[i]}+{arr[j]}'))\n",
    "    return output\n"
   ]
  },
  {
   "cell_type": "code",
   "execution_count": 155,
   "metadata": {},
   "outputs": [
    {
     "data": {
      "text/plain": [
       "['2+5', '4+3', '3+4', '-2+9']"
      ]
     },
     "execution_count": 155,
     "metadata": {},
     "output_type": "execute_result"
    }
   ],
   "source": [
    "pair_sum([2, 4, 3, 5, 6, -2, 4, 7, 8, 9],7)"
   ]
  },
  {
   "cell_type": "markdown",
   "metadata": {},
   "source": [
    "Contains Duplicate:\n",
    "\n",
    "Given an integer array nums, return true if any value appears at least twice in the array, and return false if every element is distinct.\n",
    "\n",
    "Example :\n",
    "\n",
    "Input: nums = [1,2,3,1]\n",
    "\n",
    "Output: true\n",
    "\n",
    "Hint: Use sets"
   ]
  },
  {
   "cell_type": "code",
   "execution_count": 158,
   "metadata": {},
   "outputs": [],
   "source": [
    "def contains_duplicates(nums):\n",
    "    distinct = set()\n",
    "    for i in nums:\n",
    "        distinct.add(i)\n",
    "    if len(nums) == len(distinct):\n",
    "        return False\n",
    "    else:\n",
    "        return True"
   ]
  },
  {
   "cell_type": "code",
   "execution_count": 162,
   "metadata": {},
   "outputs": [
    {
     "data": {
      "text/plain": [
       "True"
      ]
     },
     "execution_count": 162,
     "metadata": {},
     "output_type": "execute_result"
    }
   ],
   "source": [
    "contains_duplicates([1,2,3,3])"
   ]
  },
  {
   "cell_type": "markdown",
   "metadata": {},
   "source": [
    "Permutations"
   ]
  },
  {
   "cell_type": "code",
   "execution_count": 163,
   "metadata": {},
   "outputs": [],
   "source": [
    "def permutation(list1,list2):\n",
    "    if len(list1) != len(list2):\n",
    "        return False\n",
    "    else:\n",
    "        list1.sort()\n",
    "        list2.sort()\n",
    "        if list1 == list2:\n",
    "            return True\n",
    "        else:\n",
    "            return False"
   ]
  },
  {
   "cell_type": "code",
   "execution_count": 165,
   "metadata": {},
   "outputs": [
    {
     "data": {
      "text/plain": [
       "False"
      ]
     },
     "execution_count": 165,
     "metadata": {},
     "output_type": "execute_result"
    }
   ],
   "source": [
    "permutation([1,2,3],[3,4,1])"
   ]
  },
  {
   "cell_type": "markdown",
   "metadata": {},
   "source": [
    "Rotate Matrix/ Image - LeetCode 48\n",
    "\n",
    "You are given an n x n 2D matrix representing an image, rotate the image by 90 degrees (clockwise).\n",
    "\n",
    "You have to rotate the image in-place, which means you have to modify the input 2D matrix directly.\n",
    "\n",
    "DO NOT allocate another 2D matrix and do the rotation.\n",
    "\n",
    "Example:\n",
    "\n",
    "\n",
    "Input: matrix = [[1,2,3],[4,5,6],[7,8,9]]\n",
    "\n",
    "Output: [[7,4,1],[8,5,2],[9,6,3]]"
   ]
  },
  {
   "cell_type": "code",
   "execution_count": 181,
   "metadata": {},
   "outputs": [],
   "source": [
    "input_matrix = [[1,2,3],[4,5,6],[7,8,9]]"
   ]
  },
  {
   "cell_type": "code",
   "execution_count": 183,
   "metadata": {},
   "outputs": [],
   "source": [
    "def rotate(matrix):\n",
    "    n = len(matrix)\n",
    " \n",
    "    # Transpose the matrix\n",
    "    for i in range(n):  # Iterate over the rows\n",
    "        for j in range(i, n):  # Iterate over the columns starting from the current row 'i'\n",
    "            # Swap the elements at positions (i, j) and (j, i)\n",
    "            matrix[i][j], matrix[j][i] = matrix[j][i], matrix[i][j]\n",
    " \n",
    "    # Reverse each row\n",
    "    for row in matrix:  # Iterate over each row in the matrix\n",
    "        row.reverse()  # Reverse the elements in the current row\n",
    "    \n",
    "    return matrix"
   ]
  },
  {
   "cell_type": "code",
   "execution_count": 182,
   "metadata": {},
   "outputs": [
    {
     "data": {
      "text/plain": [
       "[[1, 2, 3], [4, 5, 6], [7, 8, 9]]"
      ]
     },
     "execution_count": 182,
     "metadata": {},
     "output_type": "execute_result"
    }
   ],
   "source": [
    "input_matrix"
   ]
  },
  {
   "cell_type": "code",
   "execution_count": 184,
   "metadata": {},
   "outputs": [
    {
     "data": {
      "text/plain": [
       "[[7, 4, 1], [8, 5, 2], [9, 6, 3]]"
      ]
     },
     "execution_count": 184,
     "metadata": {},
     "output_type": "execute_result"
    }
   ],
   "source": [
    "rotate(input_matrix)"
   ]
  }
 ],
 "metadata": {
  "kernelspec": {
   "display_name": "base",
   "language": "python",
   "name": "python3"
  },
  "language_info": {
   "codemirror_mode": {
    "name": "ipython",
    "version": 3
   },
   "file_extension": ".py",
   "mimetype": "text/x-python",
   "name": "python",
   "nbconvert_exporter": "python",
   "pygments_lexer": "ipython3",
   "version": "3.12.7"
  }
 },
 "nbformat": 4,
 "nbformat_minor": 2
}
