{
 "cells": [
  {
   "cell_type": "markdown",
   "metadata": {},
   "source": [
    "PROJECT 1 - ARRAYS/LISTS"
   ]
  },
  {
   "cell_type": "markdown",
   "metadata": {},
   "source": [
    "Here is what the project should do: \n",
    "1. Asks the user for the number of days\n",
    "2. For each day asks the using to provide the day's peak temperature\n",
    "3. In the result it should show the average temperature for all the days and the number of days where the temperature was above the average"
   ]
  },
  {
   "cell_type": "code",
   "execution_count": 18,
   "metadata": {},
   "outputs": [],
   "source": [
    "import numpy as np"
   ]
  },
  {
   "cell_type": "markdown",
   "metadata": {},
   "source": [
    "Using arrays only"
   ]
  },
  {
   "cell_type": "code",
   "execution_count": 42,
   "metadata": {},
   "outputs": [
    {
     "name": "stdout",
     "output_type": "stream",
     "text": [
      "Average temperature for 4 day(s) is 27.1\n",
      "2 out of 4 days are above the average temperature\n"
     ]
    }
   ],
   "source": [
    "# Input given -> num_days = 4, daily_temp = [24.7,28.5,25,30.2]\n",
    "\n",
    "num_days = int(input('Number of days you want to calculate the temperate: '))\n",
    "\n",
    "daily_temp = np.array([])\n",
    "\n",
    "for i in range(num_days):\n",
    "    day_temp = float(input(f'Enter peak temperature for day {i}'.format(i)))\n",
    "    daily_temp = np.append(daily_temp,day_temp)\n",
    "avg_temp = sum(daily_temp)/num_days\n",
    "\n",
    "high_temp_days_count = 0\n",
    "for i in range(num_days):\n",
    "    if daily_temp[i] > avg_temp:\n",
    "        high_temp_days_count+=1\n",
    "\n",
    "print(f'Average temperature for {num_days} day(s) is {avg_temp}'.format(daily_temp,num_days,avg_temp))\n",
    "print(f'{high_temp_days_count} out of {num_days} days are above the average temperature'.format(high_temp_days_count,num_days))\n"
   ]
  },
  {
   "cell_type": "markdown",
   "metadata": {},
   "source": [
    "Using lists only"
   ]
  },
  {
   "cell_type": "code",
   "execution_count": 44,
   "metadata": {},
   "outputs": [
    {
     "name": "stdout",
     "output_type": "stream",
     "text": [
      "Average temperature for 4 day(s) is 27.1\n",
      "2 out of 4 days are above the average temperature\n"
     ]
    }
   ],
   "source": [
    "# Input given -> num_days = 4, daily_temp = [24.7,28.5,25,30.2]\n",
    "\n",
    "num_days = int(input('Number of days you want to calculate the temperate: '))\n",
    "\n",
    "daily_temp = []\n",
    "\n",
    "for i in range(num_days):\n",
    "    day_temp = float(input(f'Enter peak temperature for day {i}'.format(i)))\n",
    "    daily_temp.append(day_temp)\n",
    "avg_temp = sum(daily_temp)/num_days\n",
    "\n",
    "high_temp_days_count = 0\n",
    "for i in range(num_days):\n",
    "    if daily_temp[i] > avg_temp:\n",
    "        high_temp_days_count+=1\n",
    "\n",
    "print(f'Average temperature for {num_days} day(s) is {avg_temp}'.format(daily_temp,num_days,avg_temp))\n",
    "print(f'{high_temp_days_count} out of {num_days} days are above the average temperature'.format(high_temp_days_count,num_days))\n"
   ]
  }
 ],
 "metadata": {
  "kernelspec": {
   "display_name": "base",
   "language": "python",
   "name": "python3"
  },
  "language_info": {
   "codemirror_mode": {
    "name": "ipython",
    "version": 3
   },
   "file_extension": ".py",
   "mimetype": "text/x-python",
   "name": "python",
   "nbconvert_exporter": "python",
   "pygments_lexer": "ipython3",
   "version": "3.12.7"
  }
 },
 "nbformat": 4,
 "nbformat_minor": 2
}
