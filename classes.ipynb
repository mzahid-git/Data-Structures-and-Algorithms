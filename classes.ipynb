{
 "cells": [
  {
   "cell_type": "code",
   "execution_count": 76,
   "metadata": {},
   "outputs": [],
   "source": [
    "class Controller:\n",
    "    made_in = \"China\"\n",
    "    \n",
    "    def __init__(self,color,vibrate=False):\n",
    "        self.vibrate=vibrate\n",
    "        self.color=color\n",
    "\n",
    "    def turn_on(self):\n",
    "        print(\"Turning on...\")"
   ]
  },
  {
   "cell_type": "code",
   "execution_count": 77,
   "metadata": {},
   "outputs": [],
   "source": [
    "xbox = Controller(\"Green\")\n",
    "ps = Controller(\"Black\")"
   ]
  },
  {
   "cell_type": "code",
   "execution_count": 78,
   "metadata": {},
   "outputs": [
    {
     "name": "stdout",
     "output_type": "stream",
     "text": [
      "Turning on...\n"
     ]
    }
   ],
   "source": [
    "xbox.turn_on()\n"
   ]
  },
  {
   "cell_type": "code",
   "execution_count": 75,
   "metadata": {},
   "outputs": [
    {
     "name": "stdout",
     "output_type": "stream",
     "text": [
      "False\n",
      "Green\n",
      "Canada\n",
      "Canada\n",
      "{'vibrate': False, 'color': 'Green'}\n",
      "{'__module__': '__main__', 'made_in': 'Canada', '__init__': <function Controller.__init__ at 0x0000026FD30D6480>, '__dict__': <attribute '__dict__' of 'Controller' objects>, '__weakref__': <attribute '__weakref__' of 'Controller' objects>, '__doc__': None}\n",
      "{'vibrate': False, 'color': 'Black'}\n",
      "US\n",
      "Canada\n"
     ]
    }
   ],
   "source": [
    "print(xbox.vibrate)\n",
    "print(xbox.color)\n",
    "print(xbox.made_in)\n",
    "print(Controller.made_in)\n",
    "print(xbox.__dict__)\n",
    "print(Controller.__dict__)\n",
    "print(ps.__dict__)\n",
    "ps.made_in=\"US\" # this will override the object definition made to the class it\n",
    "Controller.made_in=\"Canada\"\n",
    "print(ps.made_in)\n",
    "print(xbox.made_in)"
   ]
  },
  {
   "cell_type": "code",
   "execution_count": null,
   "metadata": {},
   "outputs": [],
   "source": []
  },
  {
   "cell_type": "code",
   "execution_count": null,
   "metadata": {},
   "outputs": [],
   "source": []
  },
  {
   "cell_type": "code",
   "execution_count": null,
   "metadata": {},
   "outputs": [],
   "source": []
  },
  {
   "cell_type": "code",
   "execution_count": null,
   "metadata": {},
   "outputs": [],
   "source": []
  }
 ],
 "metadata": {
  "kernelspec": {
   "display_name": "base",
   "language": "python",
   "name": "python3"
  },
  "language_info": {
   "codemirror_mode": {
    "name": "ipython",
    "version": 3
   },
   "file_extension": ".py",
   "mimetype": "text/x-python",
   "name": "python",
   "nbconvert_exporter": "python",
   "pygments_lexer": "ipython3",
   "version": "3.12.7"
  }
 },
 "nbformat": 4,
 "nbformat_minor": 2
}
