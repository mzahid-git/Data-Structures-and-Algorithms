{
 "cells": [
  {
   "cell_type": "code",
   "execution_count": 81,
   "metadata": {},
   "outputs": [],
   "source": [
    "ints = [1,2,3,4,5]"
   ]
  },
  {
   "cell_type": "code",
   "execution_count": 82,
   "metadata": {},
   "outputs": [
    {
     "data": {
      "text/plain": [
       "list"
      ]
     },
     "execution_count": 82,
     "metadata": {},
     "output_type": "execute_result"
    }
   ],
   "source": [
    "type(ints)"
   ]
  },
  {
   "cell_type": "code",
   "execution_count": 83,
   "metadata": {},
   "outputs": [],
   "source": [
    "strs = [\"Hello\", \"Apple\", \"Fly\", \"Some other text\"]"
   ]
  },
  {
   "cell_type": "code",
   "execution_count": 84,
   "metadata": {},
   "outputs": [
    {
     "data": {
      "text/plain": [
       "['Hello', 'Apple', 'Fly', 'Some other text']"
      ]
     },
     "execution_count": 84,
     "metadata": {},
     "output_type": "execute_result"
    }
   ],
   "source": [
    "strs"
   ]
  },
  {
   "cell_type": "code",
   "execution_count": 85,
   "metadata": {},
   "outputs": [],
   "source": [
    "mixed = [1, \"Hello\", 2.3, False]"
   ]
  },
  {
   "cell_type": "code",
   "execution_count": 86,
   "metadata": {},
   "outputs": [
    {
     "data": {
      "text/plain": [
       "[1, 'Hello', 2.3, False]"
      ]
     },
     "execution_count": 86,
     "metadata": {},
     "output_type": "execute_result"
    }
   ],
   "source": [
    "mixed"
   ]
  },
  {
   "cell_type": "code",
   "execution_count": 87,
   "metadata": {},
   "outputs": [
    {
     "data": {
      "text/plain": [
       "list"
      ]
     },
     "execution_count": 87,
     "metadata": {},
     "output_type": "execute_result"
    }
   ],
   "source": [
    "type(mixed)"
   ]
  },
  {
   "cell_type": "code",
   "execution_count": 88,
   "metadata": {},
   "outputs": [
    {
     "data": {
      "text/plain": [
       "['Hello', 2.3, False]"
      ]
     },
     "execution_count": 88,
     "metadata": {},
     "output_type": "execute_result"
    }
   ],
   "source": [
    "mixed[1:4]"
   ]
  },
  {
   "cell_type": "code",
   "execution_count": 89,
   "metadata": {},
   "outputs": [
    {
     "data": {
      "text/plain": [
       "4"
      ]
     },
     "execution_count": 89,
     "metadata": {},
     "output_type": "execute_result"
    }
   ],
   "source": [
    "len(mixed)"
   ]
  },
  {
   "cell_type": "code",
   "execution_count": 90,
   "metadata": {},
   "outputs": [
    {
     "name": "stdout",
     "output_type": "stream",
     "text": [
      "1\n",
      "Hello\n",
      "2.3\n",
      "False\n"
     ]
    }
   ],
   "source": [
    "# traversing a list\n",
    "for item in mixed:\n",
    "    print(item)"
   ]
  },
  {
   "cell_type": "code",
   "execution_count": 91,
   "metadata": {},
   "outputs": [],
   "source": [
    "nested = [[1,2,3],24,['One', 'Two', 'Three'], [1,3,[2,4,6,8],5,7,9]]"
   ]
  },
  {
   "cell_type": "code",
   "execution_count": 92,
   "metadata": {},
   "outputs": [
    {
     "data": {
      "text/plain": [
       "4"
      ]
     },
     "execution_count": 92,
     "metadata": {},
     "output_type": "execute_result"
    }
   ],
   "source": [
    "len(nested)"
   ]
  },
  {
   "cell_type": "code",
   "execution_count": 93,
   "metadata": {},
   "outputs": [
    {
     "data": {
      "text/plain": [
       "[[1, 2, 3], 24, ['One', 'Two', 'Three'], [1, 3, [2, 4, 6, 8], 5, 7, 9]]"
      ]
     },
     "execution_count": 93,
     "metadata": {},
     "output_type": "execute_result"
    }
   ],
   "source": [
    "nested"
   ]
  },
  {
   "cell_type": "code",
   "execution_count": 94,
   "metadata": {},
   "outputs": [
    {
     "data": {
      "text/plain": [
       "2"
      ]
     },
     "execution_count": 94,
     "metadata": {},
     "output_type": "execute_result"
    }
   ],
   "source": [
    "nested[3][2][0]"
   ]
  },
  {
   "cell_type": "code",
   "execution_count": 95,
   "metadata": {},
   "outputs": [
    {
     "data": {
      "text/plain": [
       "True"
      ]
     },
     "execution_count": 95,
     "metadata": {},
     "output_type": "execute_result"
    }
   ],
   "source": [
    "# checking if an item exist in a list\n",
    "'Hello' in mixed"
   ]
  },
  {
   "cell_type": "code",
   "execution_count": 96,
   "metadata": {},
   "outputs": [
    {
     "name": "stdout",
     "output_type": "stream",
     "text": [
      "[1, 'Hello', 2.3, False]\n",
      "[2, 'Hello', 2.3, False]\n"
     ]
    }
   ],
   "source": [
    "# update list element\n",
    "print(mixed)\n",
    "mixed[0]=2\n",
    "print(mixed)"
   ]
  },
  {
   "cell_type": "code",
   "execution_count": 97,
   "metadata": {},
   "outputs": [
    {
     "name": "stdout",
     "output_type": "stream",
     "text": [
      "[2, 'Hello', 2.3, False]\n",
      "[2, 'Hello', 2.3, True, False]\n"
     ]
    }
   ],
   "source": [
    "# inserting in a list: (we can either insert an item at the begining, end, or within somewhere in a list. We can even insert lists in lists)\n",
    "print(mixed)\n",
    "mixed.insert(3,True)\n",
    "print(mixed)"
   ]
  },
  {
   "cell_type": "code",
   "execution_count": 98,
   "metadata": {},
   "outputs": [],
   "source": [
    "# item only added to the end of the list\n",
    "mixed.append([1,2,3,4])"
   ]
  },
  {
   "cell_type": "code",
   "execution_count": 99,
   "metadata": {},
   "outputs": [
    {
     "data": {
      "text/plain": [
       "[2, 'Hello', 2.3, True, False, [1, 2, 3, 4]]"
      ]
     },
     "execution_count": 99,
     "metadata": {},
     "output_type": "execute_result"
    }
   ],
   "source": [
    "mixed"
   ]
  },
  {
   "cell_type": "code",
   "execution_count": 100,
   "metadata": {},
   "outputs": [],
   "source": [
    "# adds more items to the list using an iterable\n",
    "mixed.extend(range(4))"
   ]
  },
  {
   "cell_type": "code",
   "execution_count": 101,
   "metadata": {},
   "outputs": [
    {
     "data": {
      "text/plain": [
       "[2, 'Hello', 2.3, True, False, [1, 2, 3, 4], 0, 1, 2, 3]"
      ]
     },
     "execution_count": 101,
     "metadata": {},
     "output_type": "execute_result"
    }
   ],
   "source": [
    "mixed"
   ]
  },
  {
   "cell_type": "code",
   "execution_count": 102,
   "metadata": {},
   "outputs": [
    {
     "name": "stdout",
     "output_type": "stream",
     "text": [
      "[2, 'Hello', 2.3, True, False, [1, 2, 3, 4], 0, 1, 2, 3]\n",
      "[2, 'Hello', 2.3, True, False, [1, 2, 3, 4], 0, 1, 2, 3, [100, 200, 300]]\n",
      "[2, 'Hello', 2.3, True, False, [1, 2, 3, 4], 0, 1, 2, 3, [100, 200, 300], 100, 200, 300]\n"
     ]
    }
   ],
   "source": [
    "# extend() is different from append() or insert() in that if a list is given, it will not add that list to an index,\n",
    "# instead it will add each item of that list to a new index at the end of the list\n",
    "\n",
    "print(mixed)\n",
    "sample_list = [100,200,300]\n",
    "mixed.append(sample_list)\n",
    "print(mixed)\n",
    "mixed.extend(sample_list)\n",
    "print(mixed)"
   ]
  },
  {
   "cell_type": "markdown",
   "metadata": {},
   "source": [
    "Time, Space Complexities: \n",
    "\n",
    "Inserting an item: O(1), O(1)\n",
    "\n",
    "Appending an item: O(1), O(1)\n",
    "\n",
    "Extending a list: O(n), O(n)"
   ]
  },
  {
   "cell_type": "code",
   "execution_count": 103,
   "metadata": {},
   "outputs": [
    {
     "name": "stdout",
     "output_type": "stream",
     "text": [
      "[2, 'Hello', 2.3, True, False, [1, 2, 3, 4], 0, 1, 2, 3, [100, 200, 300], 100, 200, 300]\n",
      "[2.3, True, False]\n"
     ]
    }
   ],
   "source": [
    "#slicing (: is the slice operator)\n",
    "print(mixed)\n",
    "print(mixed[2:5])"
   ]
  },
  {
   "cell_type": "code",
   "execution_count": 104,
   "metadata": {},
   "outputs": [
    {
     "name": "stdout",
     "output_type": "stream",
     "text": [
      "[2, 'Hello', 2.3, True, False, [1, 2, 3, 4], 0, 1, 2, 3, [100, 200, 300], 100, 200, 300]\n",
      "[1, 2, 3]\n",
      "[2, 'Hello', 2.3, True, False, [1, 2, 3, 4], 0, -1, -1, -1, [100, 200, 300], 100, 200, 300]\n"
     ]
    }
   ],
   "source": [
    "# updating the list using the slice operator\n",
    "print(mixed)\n",
    "print(mixed[7:10])\n",
    "mixed[7:10] = [-1,-1,-1]\n",
    "print(mixed)"
   ]
  },
  {
   "cell_type": "code",
   "execution_count": 105,
   "metadata": {},
   "outputs": [
    {
     "name": "stdout",
     "output_type": "stream",
     "text": [
      "[2, 'Hello', 2.3, True, False, [1, 2, 3, 4], 0, -1, -1, -1, [100, 200, 300], 100, 200, 300]\n",
      "[2, 'Hello', 2.3, True, False, [1, 2, 3, 4], 0, -1, -1, -1, [100, 200, 300], 100, 200]\n"
     ]
    }
   ],
   "source": [
    "# deleting from a list: pop(), delete(), remove() methods\n",
    "print(mixed)\n",
    "# pop() deletes the last item from the list by default, we can specify index of the element we want to remove as well\n",
    "mixed.pop()\n",
    "print(mixed)"
   ]
  },
  {
   "cell_type": "code",
   "execution_count": 106,
   "metadata": {},
   "outputs": [
    {
     "name": "stdout",
     "output_type": "stream",
     "text": [
      "[2, 'Hello', 2.3, True, False, [1, 2, 3, 4], 0, -1, -1, -1, [100, 200, 300], 100, 200]\n",
      "[2, 'Hello', 2.3, False, [1, 2, 3, 4], 0, -1, -1, -1, [100, 200, 300], 100, 200]\n",
      "[2, 'Hello', 2.3, False, [1, 2, 3, 4], 0, [100, 200, 300], 100, 200]\n"
     ]
    }
   ],
   "source": [
    "# using delete() method\n",
    "print(mixed)\n",
    "del mixed[3]\n",
    "print(mixed)\n",
    "# we can using slicing in delete method\n",
    "del mixed[6:9]\n",
    "print(mixed)"
   ]
  },
  {
   "cell_type": "code",
   "execution_count": 107,
   "metadata": {},
   "outputs": [
    {
     "name": "stdout",
     "output_type": "stream",
     "text": [
      "[2, 'Hello', 2.3, False, [1, 2, 3, 4], 0, [100, 200, 300], 100, 200]\n",
      "[2, 2.3, False, [1, 2, 3, 4], 0, [100, 200, 300], 100, 200]\n"
     ]
    }
   ],
   "source": [
    "# remove(): specify the element you want to remove\n",
    "print(mixed)\n",
    "mixed.remove('Hello')\n",
    "print(mixed)"
   ]
  },
  {
   "cell_type": "markdown",
   "metadata": {},
   "source": [
    "Time, Space Complexities\n",
    "\n",
    "pop(): O(1) by default and O(n) otherwise, O(1)\n",
    "\n",
    "delete(): O(n), O(1)\n",
    "\n",
    "remove(): O(n), O(1)"
   ]
  },
  {
   "cell_type": "code",
   "execution_count": 110,
   "metadata": {},
   "outputs": [
    {
     "name": "stdout",
     "output_type": "stream",
     "text": [
      "[2, 2.3, False, [1, 2, 3, 4], 0, [100, 200, 300], 100, 200]\n"
     ]
    }
   ],
   "source": [
    "# searching for an element in a list: O(n) Time Complexity and O(1) Space complexity\n",
    "# Note: The IN operator has better Time complexity when used with sets and dictionaries which are implemented as hash tables\n",
    "print(mixed)"
   ]
  },
  {
   "cell_type": "code",
   "execution_count": 115,
   "metadata": {},
   "outputs": [
    {
     "name": "stdout",
     "output_type": "stream",
     "text": [
      "1000 is not in the list\n"
     ]
    }
   ],
   "source": [
    "target = 1000\n",
    "if target in mixed:\n",
    "    print(str(target) + ' is in the list')\n",
    "else:\n",
    "    print(str(target) + ' is not in the list')"
   ]
  },
  {
   "cell_type": "code",
   "execution_count": 134,
   "metadata": {},
   "outputs": [
    {
     "name": "stdout",
     "output_type": "stream",
     "text": [
      "7\n"
     ]
    }
   ],
   "source": [
    "# Linear Search: Print out the index of where the target value is located in the list\n",
    "target = 200\n",
    "index = 0\n",
    "for i in mixed:\n",
    "    if i == target:\n",
    "        print(index)\n",
    "    index +=1"
   ]
  },
  {
   "cell_type": "code",
   "execution_count": 137,
   "metadata": {},
   "outputs": [],
   "source": [
    "# put it in a function\n",
    "def linear_search(input_list,target):\n",
    "    index = 0\n",
    "    for i in input_list:\n",
    "        if i == target:\n",
    "            print(index)\n",
    "        index +=1"
   ]
  },
  {
   "cell_type": "code",
   "execution_count": 138,
   "metadata": {},
   "outputs": [
    {
     "name": "stdout",
     "output_type": "stream",
     "text": [
      "6\n"
     ]
    }
   ],
   "source": [
    "linear_search(mixed,100)"
   ]
  },
  {
   "cell_type": "code",
   "execution_count": 139,
   "metadata": {},
   "outputs": [
    {
     "data": {
      "text/plain": [
       "[100, 200, 300]"
      ]
     },
     "execution_count": 139,
     "metadata": {},
     "output_type": "execute_result"
    }
   ],
   "source": [
    "sample_list"
   ]
  },
  {
   "cell_type": "code",
   "execution_count": 143,
   "metadata": {},
   "outputs": [
    {
     "name": "stdout",
     "output_type": "stream",
     "text": [
      "0\n"
     ]
    }
   ],
   "source": [
    "linear_search(sample_list,100)"
   ]
  },
  {
   "cell_type": "code",
   "execution_count": 146,
   "metadata": {},
   "outputs": [
    {
     "name": "stdout",
     "output_type": "stream",
     "text": [
      "0 2\n",
      "1 2.3\n",
      "2 False\n",
      "3 [1, 2, 3, 4]\n",
      "4 0\n",
      "5 [100, 200, 300]\n",
      "6 100\n",
      "7 200\n"
     ]
    }
   ],
   "source": [
    "# instead of using an index variable to keep track of the index, we can using enumerate()\n",
    "for i, value in enumerate(mixed):\n",
    "    print(i,value)"
   ]
  },
  {
   "cell_type": "code",
   "execution_count": 147,
   "metadata": {},
   "outputs": [],
   "source": [
    "# re-defining the linear search funtion to make use of the enumerate\n",
    "def linear_search(input_list,target):\n",
    "    for i,value in enumerate(input_list):\n",
    "        if value == target:\n",
    "            print(i)"
   ]
  },
  {
   "cell_type": "code",
   "execution_count": 148,
   "metadata": {},
   "outputs": [
    {
     "name": "stdout",
     "output_type": "stream",
     "text": [
      "6\n"
     ]
    }
   ],
   "source": [
    "linear_search(mixed,100)"
   ]
  },
  {
   "cell_type": "code",
   "execution_count": 161,
   "metadata": {},
   "outputs": [],
   "source": [
    "# update the function so it doesn't return an error when an item is not in the list\n",
    "def linear_search(input_list,target):\n",
    "    for i,value in enumerate(input_list): # ---------> O(n)\n",
    "        if value == target: # -----------------------> O(1)\n",
    "            return i #-------------------------------> O(1)\n",
    "    return 'Item not in the list' # -----------------> O(1)\n",
    "\n",
    "# Total Time Complexity of Linear Search: O(n). Space Complexity will be O(1)"
   ]
  },
  {
   "cell_type": "code",
   "execution_count": 164,
   "metadata": {},
   "outputs": [
    {
     "data": {
      "text/plain": [
       "2"
      ]
     },
     "execution_count": 164,
     "metadata": {},
     "output_type": "execute_result"
    }
   ],
   "source": [
    "linear_search(mixed,0)"
   ]
  },
  {
   "cell_type": "markdown",
   "metadata": {},
   "source": [
    "List Operations"
   ]
  },
  {
   "cell_type": "code",
   "execution_count": 165,
   "metadata": {},
   "outputs": [
    {
     "name": "stdout",
     "output_type": "stream",
     "text": [
      "[0, 1, 2, 3, 4, 5, 6, 7, 8, 9]\n"
     ]
    }
   ],
   "source": [
    "# + Operator: Concatenate Lists\n",
    "\n",
    "lst_1 = [0,1,2,3,4]\n",
    "lst_2 = [5,6,7,8,9]\n",
    "\n",
    "lst_3 = lst_1 + lst_2\n",
    "print(lst_3)"
   ]
  },
  {
   "cell_type": "code",
   "execution_count": 166,
   "metadata": {},
   "outputs": [
    {
     "name": "stdout",
     "output_type": "stream",
     "text": [
      "[0, 1, 0, 1, 0, 1, 0, 1, 0, 1, 0, 1, 0, 1, 0, 1, 0, 1, 0, 1]\n"
     ]
    }
   ],
   "source": [
    "# * operator for repetition\n",
    "a = [0,1]\n",
    "a = a * 10\n",
    "print(a)"
   ]
  },
  {
   "cell_type": "code",
   "execution_count": 168,
   "metadata": {},
   "outputs": [
    {
     "name": "stdout",
     "output_type": "stream",
     "text": [
      "[0, 1, 0, 1, 0, 1, 0, 1, 0, 1, 0, 1, 0, 1, 0, 1, 0, 1, 0, 1]\n"
     ]
    },
    {
     "data": {
      "text/plain": [
       "20"
      ]
     },
     "execution_count": 168,
     "metadata": {},
     "output_type": "execute_result"
    }
   ],
   "source": [
    "# List funtions\n",
    "\n",
    "# 1. len(): counting the number of elements in a list\n",
    "print(a)\n",
    "len(a)"
   ]
  },
  {
   "cell_type": "code",
   "execution_count": 170,
   "metadata": {},
   "outputs": [
    {
     "data": {
      "text/plain": [
       "20"
      ]
     },
     "execution_count": 170,
     "metadata": {},
     "output_type": "execute_result"
    }
   ],
   "source": [
    "# else we would have used a loop to get to the number: The number of loops will be equal to the number of items\n",
    "def count_length(input_array):\n",
    "    length=0\n",
    "    for i in input_array:\n",
    "        length +=1\n",
    "    return length\n",
    "\n",
    "count_length(a)"
   ]
  },
  {
   "cell_type": "code",
   "execution_count": 186,
   "metadata": {},
   "outputs": [
    {
     "data": {
      "text/plain": [
       "2001"
      ]
     },
     "execution_count": 186,
     "metadata": {},
     "output_type": "execute_result"
    }
   ],
   "source": [
    "# 2. max() method: find the maximum value in the list\n",
    "sample_list = [41,33,82,100,22,33,1,12,2001,3,3,4,5,5,43,23,2,1,2,1000]\n",
    "max(sample_list)"
   ]
  },
  {
   "cell_type": "code",
   "execution_count": 184,
   "metadata": {},
   "outputs": [],
   "source": [
    "# write a funtion that does the same thing i.e. find the maximun number from a given list\n",
    "\n",
    "def find_max(input_array):\n",
    "    max_number = input_array[0]\n",
    "    for num in input_array:\n",
    "        if num >= max_number:\n",
    "            max_number = num\n",
    "    return max_number"
   ]
  },
  {
   "cell_type": "code",
   "execution_count": 187,
   "metadata": {},
   "outputs": [
    {
     "data": {
      "text/plain": [
       "2001"
      ]
     },
     "execution_count": 187,
     "metadata": {},
     "output_type": "execute_result"
    }
   ],
   "source": [
    "find_max(sample_list)"
   ]
  },
  {
   "cell_type": "code",
   "execution_count": 188,
   "metadata": {},
   "outputs": [
    {
     "data": {
      "text/plain": [
       "1"
      ]
     },
     "execution_count": 188,
     "metadata": {},
     "output_type": "execute_result"
    }
   ],
   "source": [
    "# min(): Find the minimum value in a list\n",
    "min(sample_list)"
   ]
  },
  {
   "cell_type": "code",
   "execution_count": 190,
   "metadata": {},
   "outputs": [],
   "source": [
    "# write a funtion that will return the minimum value from a list\n",
    "def find_min(input_array):\n",
    "    min_number = input_array[0]\n",
    "    for num in input_array:\n",
    "        if num <= min_number:\n",
    "            min_number = num\n",
    "    return min_number"
   ]
  },
  {
   "cell_type": "code",
   "execution_count": 193,
   "metadata": {},
   "outputs": [
    {
     "data": {
      "text/plain": [
       "1"
      ]
     },
     "execution_count": 193,
     "metadata": {},
     "output_type": "execute_result"
    }
   ],
   "source": [
    "find_min(sample_list)"
   ]
  },
  {
   "cell_type": "code",
   "execution_count": 194,
   "metadata": {},
   "outputs": [
    {
     "data": {
      "text/plain": [
       "3416"
      ]
     },
     "execution_count": 194,
     "metadata": {},
     "output_type": "execute_result"
    }
   ],
   "source": [
    "# 4. sum(): Find the sum of all the elements in a list\n",
    "\n",
    "sum(sample_list)"
   ]
  },
  {
   "cell_type": "code",
   "execution_count": 197,
   "metadata": {},
   "outputs": [],
   "source": [
    "# Create a funtion that returns the sum of all the elements in a list\n",
    "\n",
    "def find_sum(input_array):\n",
    "    sum = 0\n",
    "    for i in input_array:\n",
    "        sum+=i\n",
    "    return sum"
   ]
  },
  {
   "cell_type": "code",
   "execution_count": 198,
   "metadata": {},
   "outputs": [
    {
     "data": {
      "text/plain": [
       "3416"
      ]
     },
     "execution_count": 198,
     "metadata": {},
     "output_type": "execute_result"
    }
   ],
   "source": [
    "find_sum(sample_list)"
   ]
  },
  {
   "cell_type": "code",
   "execution_count": 199,
   "metadata": {},
   "outputs": [
    {
     "data": {
      "text/plain": [
       "170.8"
      ]
     },
     "execution_count": 199,
     "metadata": {},
     "output_type": "execute_result"
    }
   ],
   "source": [
    "# we can use the sum() and len() funtions to find the average of a list because there is no method avg()\n",
    "\n",
    "sum(sample_list)/len(sample_list)"
   ]
  },
  {
   "cell_type": "code",
   "execution_count": 200,
   "metadata": {},
   "outputs": [],
   "source": [
    "# create a funtion that returns the average of the numbers in a list\n",
    "\n",
    "def avg(input_array):\n",
    "    l = len(input_array)\n",
    "    s = sum(input_array)\n",
    "    average = s / l\n",
    "    return average"
   ]
  },
  {
   "cell_type": "code",
   "execution_count": 201,
   "metadata": {},
   "outputs": [
    {
     "data": {
      "text/plain": [
       "170.8"
      ]
     },
     "execution_count": 201,
     "metadata": {},
     "output_type": "execute_result"
    }
   ],
   "source": [
    "avg(sample_list)"
   ]
  },
  {
   "cell_type": "markdown",
   "metadata": {},
   "source": [
    "Lists and Strings"
   ]
  },
  {
   "cell_type": "code",
   "execution_count": 202,
   "metadata": {},
   "outputs": [],
   "source": [
    "s = \"Elephant\""
   ]
  },
  {
   "cell_type": "code",
   "execution_count": 203,
   "metadata": {},
   "outputs": [
    {
     "data": {
      "text/plain": [
       "str"
      ]
     },
     "execution_count": 203,
     "metadata": {},
     "output_type": "execute_result"
    }
   ],
   "source": [
    "type(s)"
   ]
  },
  {
   "cell_type": "code",
   "execution_count": 204,
   "metadata": {},
   "outputs": [],
   "source": [
    "s = list(s)"
   ]
  },
  {
   "cell_type": "code",
   "execution_count": 205,
   "metadata": {},
   "outputs": [
    {
     "data": {
      "text/plain": [
       "['E', 'l', 'e', 'p', 'h', 'a', 'n', 't']"
      ]
     },
     "execution_count": 205,
     "metadata": {},
     "output_type": "execute_result"
    }
   ],
   "source": [
    "s"
   ]
  },
  {
   "cell_type": "code",
   "execution_count": 206,
   "metadata": {},
   "outputs": [
    {
     "data": {
      "text/plain": [
       "list"
      ]
     },
     "execution_count": 206,
     "metadata": {},
     "output_type": "execute_result"
    }
   ],
   "source": [
    "type(s)"
   ]
  },
  {
   "cell_type": "code",
   "execution_count": 207,
   "metadata": {},
   "outputs": [],
   "source": [
    "s = \"Cat Dog Lion\""
   ]
  },
  {
   "cell_type": "code",
   "execution_count": 208,
   "metadata": {},
   "outputs": [
    {
     "data": {
      "text/plain": [
       "'Cat Dog Lion'"
      ]
     },
     "execution_count": 208,
     "metadata": {},
     "output_type": "execute_result"
    }
   ],
   "source": [
    "s"
   ]
  },
  {
   "cell_type": "code",
   "execution_count": 209,
   "metadata": {},
   "outputs": [],
   "source": [
    "s=list(s)"
   ]
  },
  {
   "cell_type": "code",
   "execution_count": 210,
   "metadata": {},
   "outputs": [
    {
     "data": {
      "text/plain": [
       "['C', 'a', 't', ' ', 'D', 'o', 'g', ' ', 'L', 'i', 'o', 'n']"
      ]
     },
     "execution_count": 210,
     "metadata": {},
     "output_type": "execute_result"
    }
   ],
   "source": [
    "s"
   ]
  },
  {
   "cell_type": "code",
   "execution_count": 211,
   "metadata": {},
   "outputs": [],
   "source": [
    "s = 'Cat Dog Lion'"
   ]
  },
  {
   "cell_type": "code",
   "execution_count": 212,
   "metadata": {},
   "outputs": [
    {
     "data": {
      "text/plain": [
       "'Cat Dog Lion'"
      ]
     },
     "execution_count": 212,
     "metadata": {},
     "output_type": "execute_result"
    }
   ],
   "source": [
    "s"
   ]
  },
  {
   "cell_type": "code",
   "execution_count": null,
   "metadata": {},
   "outputs": [],
   "source": [
    "s = s.split()"
   ]
  },
  {
   "cell_type": "code",
   "execution_count": 216,
   "metadata": {},
   "outputs": [
    {
     "data": {
      "text/plain": [
       "['Cat', 'Dog', 'Lion']"
      ]
     },
     "execution_count": 216,
     "metadata": {},
     "output_type": "execute_result"
    }
   ],
   "source": [
    "s"
   ]
  },
  {
   "cell_type": "code",
   "execution_count": 233,
   "metadata": {},
   "outputs": [],
   "source": [
    "s = 'Cat;Dog;Lion'"
   ]
  },
  {
   "cell_type": "code",
   "execution_count": 234,
   "metadata": {},
   "outputs": [],
   "source": [
    "s = s.split(sep=';')"
   ]
  },
  {
   "cell_type": "code",
   "execution_count": 235,
   "metadata": {},
   "outputs": [
    {
     "data": {
      "text/plain": [
       "['Cat', 'Dog', 'Lion']"
      ]
     },
     "execution_count": 235,
     "metadata": {},
     "output_type": "execute_result"
    }
   ],
   "source": [
    "s"
   ]
  },
  {
   "cell_type": "code",
   "execution_count": 238,
   "metadata": {},
   "outputs": [
    {
     "name": "stdout",
     "output_type": "stream",
     "text": [
      "['Cat', 'Dog', 'Lion']\n",
      "Cat;Dog;Lion\n"
     ]
    }
   ],
   "source": [
    "# joint() to convert the list back into the string\n",
    "print(s)\n",
    "separator = ';'\n",
    "s = separator.join(s)\n",
    "print(s)"
   ]
  },
  {
   "cell_type": "markdown",
   "metadata": {},
   "source": [
    "Common pitfalls and ways to avoid them"
   ]
  },
  {
   "cell_type": "markdown",
   "metadata": {},
   "source": [
    "1. Some functions return None when we try to use it's original name on the left of the assignment operator"
   ]
  },
  {
   "cell_type": "code",
   "execution_count": 246,
   "metadata": {},
   "outputs": [],
   "source": [
    "myList = [1,3,2,44,5,3]"
   ]
  },
  {
   "cell_type": "code",
   "execution_count": 247,
   "metadata": {},
   "outputs": [],
   "source": [
    "myList.sort()"
   ]
  },
  {
   "cell_type": "code",
   "execution_count": 248,
   "metadata": {},
   "outputs": [
    {
     "data": {
      "text/plain": [
       "[1, 2, 3, 3, 5, 44]"
      ]
     },
     "execution_count": 248,
     "metadata": {},
     "output_type": "execute_result"
    }
   ],
   "source": [
    "myList"
   ]
  },
  {
   "cell_type": "code",
   "execution_count": 251,
   "metadata": {},
   "outputs": [],
   "source": [
    "myList = myList.sort()"
   ]
  },
  {
   "cell_type": "code",
   "execution_count": 252,
   "metadata": {},
   "outputs": [
    {
     "name": "stdout",
     "output_type": "stream",
     "text": [
      "None\n"
     ]
    }
   ],
   "source": [
    "print(myList)\n",
    "\n",
    "# Note: Now this was unexpected. Always look at docs carefully. Best place to look: docs.python.org"
   ]
  },
  {
   "cell_type": "markdown",
   "metadata": {},
   "source": [
    "2. There are many ways to do similar things"
   ]
  },
  {
   "cell_type": "code",
   "execution_count": 254,
   "metadata": {},
   "outputs": [],
   "source": [
    "myList = [1,3,2,44,5,3]"
   ]
  },
  {
   "cell_type": "code",
   "execution_count": 255,
   "metadata": {},
   "outputs": [],
   "source": [
    "myList.append(10)"
   ]
  },
  {
   "cell_type": "code",
   "execution_count": 256,
   "metadata": {},
   "outputs": [
    {
     "data": {
      "text/plain": [
       "[1, 3, 2, 44, 5, 3, 10]"
      ]
     },
     "execution_count": 256,
     "metadata": {},
     "output_type": "execute_result"
    }
   ],
   "source": [
    "myList"
   ]
  },
  {
   "cell_type": "code",
   "execution_count": 257,
   "metadata": {},
   "outputs": [],
   "source": [
    "myList = myList + [10]"
   ]
  },
  {
   "cell_type": "code",
   "execution_count": 258,
   "metadata": {},
   "outputs": [
    {
     "data": {
      "text/plain": [
       "[1, 3, 2, 44, 5, 3, 10, 10]"
      ]
     },
     "execution_count": 258,
     "metadata": {},
     "output_type": "execute_result"
    }
   ],
   "source": [
    "myList"
   ]
  },
  {
   "cell_type": "code",
   "execution_count": null,
   "metadata": {},
   "outputs": [],
   "source": [
    "myList.append([10])\n",
    "# This is a mistake. It will add another list with a single value of 10 and not just 10 as a value to our list"
   ]
  },
  {
   "cell_type": "code",
   "execution_count": 261,
   "metadata": {},
   "outputs": [
    {
     "data": {
      "text/plain": [
       "[1, 3, 2, 44, 5, 3, 10, 10, [10]]"
      ]
     },
     "execution_count": 261,
     "metadata": {},
     "output_type": "execute_result"
    }
   ],
   "source": [
    "myList\n",
    "\n",
    "# To avoid these kind of errors, try to run your code in an interactive environment"
   ]
  },
  {
   "cell_type": "markdown",
   "metadata": {},
   "source": [
    "3. Funtions like sort() updates the original list. Try to take copy of the original list if you want to preserve."
   ]
  },
  {
   "cell_type": "code",
   "execution_count": 267,
   "metadata": {},
   "outputs": [],
   "source": [
    "myList = [1,3,2,44,5,3]"
   ]
  },
  {
   "cell_type": "code",
   "execution_count": 268,
   "metadata": {},
   "outputs": [],
   "source": [
    "og_myList = myList\n",
    "# Note: Don't take copy like this"
   ]
  },
  {
   "cell_type": "code",
   "execution_count": 269,
   "metadata": {},
   "outputs": [],
   "source": [
    "myList.sort()"
   ]
  },
  {
   "cell_type": "code",
   "execution_count": 270,
   "metadata": {},
   "outputs": [
    {
     "data": {
      "text/plain": [
       "[1, 2, 3, 3, 5, 44]"
      ]
     },
     "execution_count": 270,
     "metadata": {},
     "output_type": "execute_result"
    }
   ],
   "source": [
    "myList"
   ]
  },
  {
   "cell_type": "code",
   "execution_count": 271,
   "metadata": {},
   "outputs": [
    {
     "data": {
      "text/plain": [
       "[1, 2, 3, 3, 5, 44]"
      ]
     },
     "execution_count": 271,
     "metadata": {},
     "output_type": "execute_result"
    }
   ],
   "source": [
    "og_myList\n",
    "# see?"
   ]
  },
  {
   "cell_type": "code",
   "execution_count": 274,
   "metadata": {},
   "outputs": [],
   "source": [
    "# Let's do it again with proper way to copy\n",
    "myList = [1,3,2,44,5,3]"
   ]
  },
  {
   "cell_type": "code",
   "execution_count": 275,
   "metadata": {},
   "outputs": [],
   "source": [
    "og_myList = myList[:]"
   ]
  },
  {
   "cell_type": "code",
   "execution_count": 276,
   "metadata": {},
   "outputs": [],
   "source": [
    "myList.sort()"
   ]
  },
  {
   "cell_type": "code",
   "execution_count": 277,
   "metadata": {},
   "outputs": [
    {
     "data": {
      "text/plain": [
       "[1, 2, 3, 3, 5, 44]"
      ]
     },
     "execution_count": 277,
     "metadata": {},
     "output_type": "execute_result"
    }
   ],
   "source": [
    "myList"
   ]
  },
  {
   "cell_type": "code",
   "execution_count": 278,
   "metadata": {},
   "outputs": [
    {
     "data": {
      "text/plain": [
       "[1, 3, 2, 44, 5, 3]"
      ]
     },
     "execution_count": 278,
     "metadata": {},
     "output_type": "execute_result"
    }
   ],
   "source": [
    "og_myList"
   ]
  },
  {
   "cell_type": "code",
   "execution_count": 280,
   "metadata": {},
   "outputs": [
    {
     "name": "stdout",
     "output_type": "stream",
     "text": [
      "[1, 2, 3, 3, 5, 44]\n",
      "[1, 3, 2, 44, 5, 3]\n"
     ]
    }
   ],
   "source": [
    "# we can also use a funtion like sorted() instead of sort() method to avoid this problem as it will not change the original list\n",
    "myList = [1,3,2,44,5,3]\n",
    "print(sorted(myList))\n",
    "print(myList)\n"
   ]
  },
  {
   "cell_type": "markdown",
   "metadata": {},
   "source": [
    "**Lists vs Arrays**\n",
    "\n",
    "Similarities:\n",
    "1. Both data structures are mutable\n",
    "2. Both can be indexed and iterated through\n",
    "3. They can be both sliced\n",
    "\n",
    "Differences:\n",
    "1. Arrays are optimized for Arithematic Operations (can divide an array by a number for example while not a list)\n",
    "2. Arrays can have only one type of data type (when string is used with int, everything will be converted to string)"
   ]
  },
  {
   "cell_type": "code",
   "execution_count": null,
   "metadata": {},
   "outputs": [],
   "source": []
  },
  {
   "cell_type": "code",
   "execution_count": null,
   "metadata": {},
   "outputs": [],
   "source": []
  }
 ],
 "metadata": {
  "kernelspec": {
   "display_name": "base",
   "language": "python",
   "name": "python3"
  },
  "language_info": {
   "codemirror_mode": {
    "name": "ipython",
    "version": 3
   },
   "file_extension": ".py",
   "mimetype": "text/x-python",
   "name": "python",
   "nbconvert_exporter": "python",
   "pygments_lexer": "ipython3",
   "version": "3.12.7"
  }
 },
 "nbformat": 4,
 "nbformat_minor": 2
}
